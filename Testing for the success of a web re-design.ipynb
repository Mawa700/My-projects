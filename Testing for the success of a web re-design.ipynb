{
 "cells": [
  {
   "cell_type": "markdown",
   "id": "43b7567f-c20f-406b-804c-22a98abf0034",
   "metadata": {},
   "source": [
    "### Was a web re-design a success?\n",
    "#### Background\n",
    "A team belives a new design will increase the number of people who click through and join a website. They have been testing the changes for a few weeks, and now they want to measure the impact of the change and need you to determine if the increase can be due to random chance or if its statistically significant.\n",
    "\n",
    "#### The data\n",
    "\n",
    "##### Redesign test data\n",
    "- treatment - 'yes' if the user saw the new version of the landing page 'no' otherwise.\n",
    "- 'new_images' - 'yes' if the used a new set of images, 'no' otherwise.\n",
    "- 'converted' - 1 if joined the site, 0 otherwise.\n",
    "- The control group is those users with 'no' in both columns: the old version with the old set of images."
   ]
  },
  {
   "cell_type": "code",
   "execution_count": 1,
   "id": "165331ae-388a-4c63-a205-f2fbcc447685",
   "metadata": {},
   "outputs": [],
   "source": [
    "import pandas as pd\n",
    "import numpy as np\n",
    "import os\n",
    "os.chdir('C:\\\\Users\\\\DELL\\\\Desktop\\\\my work')"
   ]
  },
  {
   "cell_type": "code",
   "execution_count": 2,
   "id": "4172998d-122d-41f1-b5a0-db700eb3eb49",
   "metadata": {},
   "outputs": [
    {
     "data": {
      "text/html": [
       "<div>\n",
       "<style scoped>\n",
       "    .dataframe tbody tr th:only-of-type {\n",
       "        vertical-align: middle;\n",
       "    }\n",
       "\n",
       "    .dataframe tbody tr th {\n",
       "        vertical-align: top;\n",
       "    }\n",
       "\n",
       "    .dataframe thead th {\n",
       "        text-align: right;\n",
       "    }\n",
       "</style>\n",
       "<table border=\"1\" class=\"dataframe\">\n",
       "  <thead>\n",
       "    <tr style=\"text-align: right;\">\n",
       "      <th></th>\n",
       "      <th>treatment</th>\n",
       "      <th>new_images</th>\n",
       "      <th>converted</th>\n",
       "    </tr>\n",
       "  </thead>\n",
       "  <tbody>\n",
       "    <tr>\n",
       "      <th>0</th>\n",
       "      <td>yes</td>\n",
       "      <td>yes</td>\n",
       "      <td>0</td>\n",
       "    </tr>\n",
       "    <tr>\n",
       "      <th>1</th>\n",
       "      <td>yes</td>\n",
       "      <td>yes</td>\n",
       "      <td>0</td>\n",
       "    </tr>\n",
       "    <tr>\n",
       "      <th>2</th>\n",
       "      <td>yes</td>\n",
       "      <td>yes</td>\n",
       "      <td>0</td>\n",
       "    </tr>\n",
       "    <tr>\n",
       "      <th>3</th>\n",
       "      <td>yes</td>\n",
       "      <td>no</td>\n",
       "      <td>0</td>\n",
       "    </tr>\n",
       "    <tr>\n",
       "      <th>4</th>\n",
       "      <td>no</td>\n",
       "      <td>yes</td>\n",
       "      <td>0</td>\n",
       "    </tr>\n",
       "  </tbody>\n",
       "</table>\n",
       "</div>"
      ],
      "text/plain": [
       "  treatment new_images  converted\n",
       "0       yes        yes          0\n",
       "1       yes        yes          0\n",
       "2       yes        yes          0\n",
       "3       yes         no          0\n",
       "4        no        yes          0"
      ]
     },
     "execution_count": 2,
     "metadata": {},
     "output_type": "execute_result"
    }
   ],
   "source": [
    "df = pd.read_csv('redesign.csv')\n",
    "df.head()"
   ]
  },
  {
   "cell_type": "markdown",
   "id": "3e08b733-2955-4d9e-b84c-0cf2ae8b6815",
   "metadata": {},
   "source": [
    "#### Exploratory analysis"
   ]
  },
  {
   "cell_type": "code",
   "execution_count": 3,
   "id": "26afe969-8269-428a-b587-2e99b83c003b",
   "metadata": {},
   "outputs": [
    {
     "name": "stdout",
     "output_type": "stream",
     "text": [
      "<class 'pandas.core.frame.DataFrame'>\n",
      "RangeIndex: 40484 entries, 0 to 40483\n",
      "Data columns (total 3 columns):\n",
      " #   Column      Non-Null Count  Dtype \n",
      "---  ------      --------------  ----- \n",
      " 0   treatment   40484 non-null  object\n",
      " 1   new_images  40484 non-null  object\n",
      " 2   converted   40484 non-null  int64 \n",
      "dtypes: int64(1), object(2)\n",
      "memory usage: 949.0+ KB\n"
     ]
    }
   ],
   "source": [
    "df.info()"
   ]
  },
  {
   "cell_type": "markdown",
   "id": "6abd5e58-d149-461e-9336-8467bf7607b0",
   "metadata": {},
   "source": [
    "- we see that there are no misssing values for all the columns"
   ]
  },
  {
   "cell_type": "code",
   "execution_count": 4,
   "id": "f858d9f2-a0a2-444d-8c38-4d61f04cecae",
   "metadata": {},
   "outputs": [
    {
     "data": {
      "text/plain": [
       "treatment\n",
       "yes    20242\n",
       "no     20242\n",
       "Name: count, dtype: int64"
      ]
     },
     "execution_count": 4,
     "metadata": {},
     "output_type": "execute_result"
    }
   ],
   "source": [
    "df['treatment'].value_counts()"
   ]
  },
  {
   "cell_type": "markdown",
   "id": "212f9b88-2d8c-4edd-b1ba-036ecb4c5bb2",
   "metadata": {},
   "source": [
    "- A 50/50 allocation between the treatment and control groups"
   ]
  },
  {
   "cell_type": "code",
   "execution_count": 5,
   "id": "8623ab30-8bb7-4cc7-9647-46a5e75c9b9c",
   "metadata": {},
   "outputs": [
    {
     "data": {
      "text/html": [
       "<div>\n",
       "<style scoped>\n",
       "    .dataframe tbody tr th:only-of-type {\n",
       "        vertical-align: middle;\n",
       "    }\n",
       "\n",
       "    .dataframe tbody tr th {\n",
       "        vertical-align: top;\n",
       "    }\n",
       "\n",
       "    .dataframe thead th {\n",
       "        text-align: right;\n",
       "    }\n",
       "</style>\n",
       "<table border=\"1\" class=\"dataframe\">\n",
       "  <thead>\n",
       "    <tr style=\"text-align: right;\">\n",
       "      <th>new_images</th>\n",
       "      <th>no</th>\n",
       "      <th>yes</th>\n",
       "    </tr>\n",
       "    <tr>\n",
       "      <th>treatment</th>\n",
       "      <th></th>\n",
       "      <th></th>\n",
       "    </tr>\n",
       "  </thead>\n",
       "  <tbody>\n",
       "    <tr>\n",
       "      <th>no</th>\n",
       "      <td>10121</td>\n",
       "      <td>10121</td>\n",
       "    </tr>\n",
       "    <tr>\n",
       "      <th>yes</th>\n",
       "      <td>10121</td>\n",
       "      <td>10121</td>\n",
       "    </tr>\n",
       "  </tbody>\n",
       "</table>\n",
       "</div>"
      ],
      "text/plain": [
       "new_images     no    yes\n",
       "treatment               \n",
       "no          10121  10121\n",
       "yes         10121  10121"
      ]
     },
     "execution_count": 5,
     "metadata": {},
     "output_type": "execute_result"
    }
   ],
   "source": [
    "pd.crosstab(df['treatment'], df['new_images'])"
   ]
  },
  {
   "cell_type": "markdown",
   "id": "8fc735e1-a61a-4769-82e5-1a6193759180",
   "metadata": {},
   "source": [
    "- A proper balance in the dataset variations for the treatment and control groups for the new and old website.\n",
    "- since the data is neat and clean, Lets prepare the data for further analysis\n",
    "#### Next lets generate groups for different users from columns: web version and set of images."
   ]
  },
  {
   "cell_type": "code",
   "execution_count": 6,
   "id": "77c3e693-bd61-4111-bd8f-2114cb808148",
   "metadata": {},
   "outputs": [
    {
     "data": {
      "text/html": [
       "<div>\n",
       "<style scoped>\n",
       "    .dataframe tbody tr th:only-of-type {\n",
       "        vertical-align: middle;\n",
       "    }\n",
       "\n",
       "    .dataframe tbody tr th {\n",
       "        vertical-align: top;\n",
       "    }\n",
       "\n",
       "    .dataframe thead th {\n",
       "        text-align: right;\n",
       "    }\n",
       "</style>\n",
       "<table border=\"1\" class=\"dataframe\">\n",
       "  <thead>\n",
       "    <tr style=\"text-align: right;\">\n",
       "      <th></th>\n",
       "      <th>treatment</th>\n",
       "      <th>new_images</th>\n",
       "      <th>converted</th>\n",
       "      <th>group</th>\n",
       "    </tr>\n",
       "  </thead>\n",
       "  <tbody>\n",
       "    <tr>\n",
       "      <th>0</th>\n",
       "      <td>yes</td>\n",
       "      <td>yes</td>\n",
       "      <td>0</td>\n",
       "      <td>A</td>\n",
       "    </tr>\n",
       "    <tr>\n",
       "      <th>1</th>\n",
       "      <td>yes</td>\n",
       "      <td>yes</td>\n",
       "      <td>0</td>\n",
       "      <td>A</td>\n",
       "    </tr>\n",
       "    <tr>\n",
       "      <th>2</th>\n",
       "      <td>yes</td>\n",
       "      <td>yes</td>\n",
       "      <td>0</td>\n",
       "      <td>A</td>\n",
       "    </tr>\n",
       "    <tr>\n",
       "      <th>3</th>\n",
       "      <td>yes</td>\n",
       "      <td>no</td>\n",
       "      <td>0</td>\n",
       "      <td>B</td>\n",
       "    </tr>\n",
       "    <tr>\n",
       "      <th>4</th>\n",
       "      <td>no</td>\n",
       "      <td>yes</td>\n",
       "      <td>0</td>\n",
       "      <td>C</td>\n",
       "    </tr>\n",
       "  </tbody>\n",
       "</table>\n",
       "</div>"
      ],
      "text/plain": [
       "  treatment new_images  converted group\n",
       "0       yes        yes          0     A\n",
       "1       yes        yes          0     A\n",
       "2       yes        yes          0     A\n",
       "3       yes         no          0     B\n",
       "4        no        yes          0     C"
      ]
     },
     "execution_count": 6,
     "metadata": {},
     "output_type": "execute_result"
    }
   ],
   "source": [
    "df['group'] = df.apply(lambda x: 'A' if (x['treatment']=='yes') & (x['new_images']=='yes')\n",
    "                       else ('B' if (x['treatment']=='yes') & (x['new_images']=='no')\n",
    "                             else( 'C' if (x['treatment']=='no') & (x['new_images']=='yes')\n",
    "                                  else 'control')), axis=1) \n",
    "df.head()"
   ]
  },
  {
   "cell_type": "markdown",
   "id": "11843b72-d99c-4177-8e1f-625b21f1247c",
   "metadata": {},
   "source": [
    "##### explaining the new column we created.\n",
    "- A- these are observations from users who have seen the new set of images and new design of the landing page\n",
    "- B- these are observations from users who have seen the old set of images and new design of the landing page\n",
    "- C- these are observations from users who have seen the new set of images and old design of the landing page\n",
    "\n",
    "- control - these are observations from users who have seen the old set of images and old design of the landing page"
   ]
  },
  {
   "cell_type": "markdown",
   "id": "5ee4ab48-b7b0-4738-b503-56e694ad2aae",
   "metadata": {},
   "source": [
    "######\n",
    "#### Lets analyze the conversion rates for each of the four groups: the new/old design of the landing page and the new/old pictures\n"
   ]
  },
  {
   "cell_type": "code",
   "execution_count": 9,
   "id": "71c08a7b-6156-4198-b3c4-207ce85a03f5",
   "metadata": {},
   "outputs": [
    {
     "data": {
      "text/html": [
       "<div>\n",
       "<style scoped>\n",
       "    .dataframe tbody tr th:only-of-type {\n",
       "        vertical-align: middle;\n",
       "    }\n",
       "\n",
       "    .dataframe tbody tr th {\n",
       "        vertical-align: top;\n",
       "    }\n",
       "\n",
       "    .dataframe thead th {\n",
       "        text-align: right;\n",
       "    }\n",
       "</style>\n",
       "<table border=\"1\" class=\"dataframe\">\n",
       "  <thead>\n",
       "    <tr style=\"text-align: right;\">\n",
       "      <th></th>\n",
       "      <th>group</th>\n",
       "      <th>std</th>\n",
       "      <th>conversion_rate</th>\n",
       "    </tr>\n",
       "  </thead>\n",
       "  <tbody>\n",
       "    <tr>\n",
       "      <th>0</th>\n",
       "      <td>A</td>\n",
       "      <td>0.317491</td>\n",
       "      <td>0.113724</td>\n",
       "    </tr>\n",
       "    <tr>\n",
       "      <th>1</th>\n",
       "      <td>B</td>\n",
       "      <td>0.325033</td>\n",
       "      <td>0.120047</td>\n",
       "    </tr>\n",
       "    <tr>\n",
       "      <th>2</th>\n",
       "      <td>C</td>\n",
       "      <td>0.316043</td>\n",
       "      <td>0.112538</td>\n",
       "    </tr>\n",
       "    <tr>\n",
       "      <th>3</th>\n",
       "      <td>control</td>\n",
       "      <td>0.309261</td>\n",
       "      <td>0.107104</td>\n",
       "    </tr>\n",
       "  </tbody>\n",
       "</table>\n",
       "</div>"
      ],
      "text/plain": [
       "     group       std  conversion_rate\n",
       "0        A  0.317491         0.113724\n",
       "1        B  0.325033         0.120047\n",
       "2        C  0.316043         0.112538\n",
       "3  control  0.309261         0.107104"
      ]
     },
     "execution_count": 9,
     "metadata": {},
     "output_type": "execute_result"
    }
   ],
   "source": [
    "conv_diff = df.groupby('group')['converted'].agg({'mean', 'std'}).reset_index()\n",
    "conv_diff = conv_diff.rename(columns={'mean':'conversion_rate'})\n",
    "conv_diff "
   ]
  },
  {
   "cell_type": "markdown",
   "id": "81762431-e703-483f-9790-dbc1c79f85cb",
   "metadata": {},
   "source": [
    "- we can see that group B has a slightly higher conversion rate compared to other groups.\n",
    "- Next, we shall have to evaluate if these conversions are not by chance. \n",
    "- but lets first plot the conversion rates."
   ]
  },
  {
   "cell_type": "code",
   "execution_count": 10,
   "id": "d1d4df98-9031-4f37-8a4f-b172b3e97b1a",
   "metadata": {},
   "outputs": [],
   "source": [
    "import seaborn as sns\n",
    "import matplotlib.pyplot as plt"
   ]
  },
  {
   "cell_type": "code",
   "execution_count": 12,
   "id": "5b98a3e2-9536-4161-84ef-285c1128eb7c",
   "metadata": {},
   "outputs": [
    {
     "data": {
      "image/png": "[encoded data removed]",
      "text/plain": [
       "<Figure size 600x400 with 1 Axes>"
      ]
     },
     "metadata": {},
     "output_type": "display_data"
    }
   ],
   "source": [
    "plt.figure(figsize=(6,4))\n",
    "sns.barplot(data=conv_diff, y='conversion_rate', x='group', hue='group')\n",
    "plt.title('Conversion Rate by group')\n",
    "plt.show()"
   ]
  },
  {
   "cell_type": "markdown",
   "id": "9ae4f92f-78fc-48c6-b035-cda0a0ab16cc",
   "metadata": {},
   "source": [
    "#### Analyzing the difference in proportions A/B tests\n",
    "##### To evaluate whether the difference in the mean conversion rate between groups are statistically significant,\n",
    "- we need to perform a two sample z-test for proportions \n",
    "- This allows us to calculate the p-value of the test.\n",
    "- if p-value < alpha, reject the null hypothesis and conclude that the treatment effect is statistically significant.\n",
    "  - if p-value > alpha, fail to reject null hypothesis\n",
    "- to get an estimate for conversion rate, we lean on the concept of confidence intervals.\n",
    "95% Confidence Interval is the range of plausible values that captures the true difference 95% of the time and is centered around the observed differnce between the treatment and control.\n",
    "###### \n",
    "- we shall split the dataframe into four subgroups\n",
    "- concate each of the subgroups to the control group\n",
    "- Then we shall compare the conversion rate for each group to the control group"
   ]
  },
  {
   "cell_type": "code",
   "execution_count": 13,
   "id": "f2a38601-b9a3-4099-a683-806c3288c82c",
   "metadata": {},
   "outputs": [],
   "source": [
    "# spliting into sub groups\n",
    "A_df = df[df['group']=='A']\n",
    "B_df = df[df['group']=='B']\n",
    "C_df = df[df['group']=='C']\n",
    "control_df = df[df['group']=='control']\n",
    "\n",
    "# concatenating one by one with the control group dataframe\n",
    "A_con = pd.concat([A_df, control_df], axis=0)\n",
    "B_con = pd.concat([B_df, control_df], axis=0)\n",
    "C_con = pd.concat([C_df, control_df], axis=0)\n"
   ]
  },
  {
   "cell_type": "markdown",
   "id": "4ffa5e14-2c23-4f60-8243-216e2873c950",
   "metadata": {},
   "source": [
    "##### Two sample proportions z-test"
   ]
  },
  {
   "cell_type": "code",
   "execution_count": 14,
   "id": "55f82133-07a9-46be-a3bc-71f9dfae1c61",
   "metadata": {},
   "outputs": [],
   "source": [
    "from statsmodels.stats.proportion import proportions_ztest, proportion_confint"
   ]
  },
  {
   "cell_type": "code",
   "execution_count": 15,
   "id": "d94cfb73-51ec-4956-9c99-58bdea313d1c",
   "metadata": {},
   "outputs": [
    {
     "name": "stdout",
     "output_type": "stream",
     "text": [
      "Group A users: 10121\n",
      "Group B users: 10121\n",
      "Group C users: 10121\n",
      "control group users: 10121\n"
     ]
    }
   ],
   "source": [
    "#  the number of users per group\n",
    "n_A = A_df['converted'].count()\n",
    "n_B = B_df['converted'].count()\n",
    "n_C = C_df['converted'].count()\n",
    "n_con = control_df['converted'].count()\n",
    "\n",
    "print('Group A users:', n_A)\n",
    "print('Group B users:', n_B)\n",
    "print('Group C users:', n_C)\n",
    "print('control group users:', n_con)"
   ]
  },
  {
   "cell_type": "code",
   "execution_count": 16,
   "id": "b9d98863-fddc-4097-98c7-c86c7304dd01",
   "metadata": {},
   "outputs": [
    {
     "name": "stdout",
     "output_type": "stream",
     "text": [
      "Group A success: 1151\n",
      "Group B success: 1215\n",
      "Group C success: 1139\n",
      "control group success: 1084\n"
     ]
    }
   ],
   "source": [
    "# successes in each group\n",
    "success_A = A_df['converted'].sum()\n",
    "success_B = B_df['converted'].sum()\n",
    "success_C = C_df['converted'].sum()\n",
    "success_con = control_df['converted'].sum()\n",
    "\n",
    "print('Group A success:', success_A)\n",
    "print('Group B success:', success_B)\n",
    "print('Group C success:', success_C)\n",
    "print('control group success:', success_con)"
   ]
  },
  {
   "cell_type": "code",
   "execution_count": 17,
   "id": "2f3f3563-7701-4d76-b1a6-7cc65d5fd043",
   "metadata": {},
   "outputs": [],
   "source": [
    "# Assign groups list\n",
    "# 1. group A vs control group\n",
    "success_A_con = [success_A, success_con]\n",
    "nobs_A_con = [n_A, n_con]\n",
    "\n",
    "# 2. group A vs control group\n",
    "success_B_con = [success_B, success_con]\n",
    "nobs_B_con = [n_B, n_con]\n",
    "\n",
    "# 3. group A vs control group\n",
    "success_C_con = [success_C, success_con]\n",
    "nobs_C_con = [n_C, n_con]\n",
    "\n"
   ]
  },
  {
   "cell_type": "markdown",
   "id": "2bc84b39-f472-4c50-9199-ec52c21c4ebc",
   "metadata": {},
   "source": [
    "##### performing the full set of comparisions between the three designs,"
   ]
  },
  {
   "cell_type": "code",
   "execution_count": 18,
   "id": "9e24cbea-6a17-4cc8-bfad-03c57c7dbbf8",
   "metadata": {},
   "outputs": [
    {
     "name": "stdout",
     "output_type": "stream",
     "text": [
      "p-value:0.1329\n",
      "Group A 95% CI:[0.1075, 0.1199]\n",
      "control group 95% CI:[0.1011, 0.1131]\n"
     ]
    }
   ],
   "source": [
    "# 1. group A vs control group\n",
    "z_stat, pvalue = proportions_ztest(success_A_con, nobs=nobs_A_con)\n",
    "(A_lo95, con_lo95), (A_up95, con_up95) = proportion_confint(success_A_con, nobs=nobs_A_con, alpha=0.05)\n",
    "\n",
    "#print the p-value and confidence intervals\n",
    "print(f'p-value:{pvalue:.4f}')\n",
    "print(f'Group A 95% CI:[{A_lo95:.4f}, {A_up95:.4f}]')\n",
    "print(f'control group 95% CI:[{con_lo95:.4f}, {con_up95:.4f}]')"
   ]
  },
  {
   "cell_type": "code",
   "execution_count": 19,
   "id": "020947ad-b80d-49bc-9553-247b94c76ba5",
   "metadata": {},
   "outputs": [
    {
     "name": "stdout",
     "output_type": "stream",
     "text": [
      "p-value:0.0037\n",
      "Group B 95% CI:[0.1075, 0.1199]\n",
      "control group 95% CI:[0.1011, 0.1131]\n"
     ]
    }
   ],
   "source": [
    " # group B vs control group\n",
    "z_stat, pvalue = proportions_ztest(success_B_con, nobs=nobs_B_con)\n",
    "(B_lo95, con_lo95), (B_up95, con_up95) = proportion_confint(success_B_con, nobs=nobs_B_con, alpha=0.05)\n",
    "\n",
    "#print the p-value and confidence intervals\n",
    "print(f'p-value:{pvalue:.4f}')\n",
    "print(f'Group B 95% CI:[{A_lo95:.4f}, {A_up95:.4f}]')\n",
    "print(f'control group 95% CI:[{con_lo95:.4f}, {con_up95:.4f}]')"
   ]
  },
  {
   "cell_type": "code",
   "execution_count": 20,
   "id": "ca30b8c9-9c2e-4398-b6e1-2bf5334469cf",
   "metadata": {},
   "outputs": [
    {
     "name": "stdout",
     "output_type": "stream",
     "text": [
      "p-value:0.2163\n",
      "Group C 95% CI:[0.1075, 0.1199]\n",
      "control group 95% CI:[0.1011, 0.1131]\n"
     ]
    }
   ],
   "source": [
    " # group C vs control group\n",
    "z_stat, pvalue = proportions_ztest(success_C_con, nobs=nobs_C_con)\n",
    "(C_lo95, con_lo95), (C_up95, con_up95) = proportion_confint(success_C_con, nobs=nobs_C_con, alpha=0.05)\n",
    "\n",
    "#print the p-value and confidence intervals\n",
    "print(f'p-value:{pvalue:.4f}')\n",
    "print(f'Group C 95% CI:[{A_lo95:.4f}, {A_up95:.4f}]')\n",
    "print(f'control group 95% CI:[{con_lo95:.4f}, {con_up95:.4f}]')"
   ]
  },
  {
   "cell_type": "markdown",
   "id": "915bfd1c-1010-48a2-a69a-837fbc402b47",
   "metadata": {},
   "source": [
    "#### Results\n",
    "Running the Z-test on the three variations, each against the control group, the significance of each conversion rate is shown:\n",
    "- A/B test on group A vs control has a p-value of 0.1329 which is way bigger than the alpha of 0.05. this means we fail to reject the null hypothesis.\n",
    "- A/B test on group B vs control has a p-value of 0.0037 which is smaller than the alpha of 0.05. this means we  reject the null hypothesis.\n",
    "- A/B test on group A vs control has a p-value of 0.2163 which is way bigger than the alpha of 0.05. this means we fail to reject the null hypothesis.\n",
    "- Looking at the confidence interval of group B we expect the conversion rate to lie between 10 - 11 percent with 95% confidence."
   ]
  },
  {
   "cell_type": "markdown",
   "id": "809af1dc-d321-4bd7-bbef-97db3817413e",
   "metadata": {},
   "source": [
    "#### Conclusions\n",
    "The data didnot support the increase in conversion rates statistically for the following variations:\n",
    "1. New version of landing page and new images\n",
    "2. Old version of landing page and new set of images.\n",
    "######\n",
    "However one variation had a statistical significance in terms of conversion rate and is supported by the data analysed above.\n",
    "- The variation (New design of landing page and old set of images) has a p-value of 0.0037 which is way smaller than alpha 0.05, thus we reject the null hypothesis that the two groups have equal conversion rates, and we can expect a conversion rate to lie between 10-11% with 95% confidence.\n",
    "\n",
    "##### Therefore, the company should proceed to use the new design of the landing page with the old set of images on the website.\n",
    "##### Thankyou for giving my project a detailed look. please feel free to leave a comment or suggestion to mawadripaul111@gmail.com"
   ]
  }
 ],
 "metadata": {
  "kernelspec": {
   "display_name": "Python 3 (ipykernel)",
   "language": "python",
   "name": "python3"
  },
  "language_info": {
   "codemirror_mode": {
    "name": "ipython",
    "version": 3
   },
   "file_extension": ".py",
   "mimetype": "text/x-python",
   "name": "python",
   "nbconvert_exporter": "python",
   "pygments_lexer": "ipython3",
   "version": "3.11.7"
  }
 },
 "nbformat": 4,
 "nbformat_minor": 5
}
